{
 "cells": [
  {
   "cell_type": "code",
   "execution_count": 1,
   "metadata": {},
   "outputs": [],
   "source": [
    "from scipy import stats\n",
    "import statsmodels.api as sm \n",
    "import pylab as py \n",
    "\n",
    "import pandas as pd\n",
    "import numpy as np\n",
    "import matplotlib.pyplot as plt\n",
    "%matplotlib inline\n",
    "import missingno as msno\n",
    "from scipy import stats\n",
    "\n",
    "import seaborn as sns\n",
    "from matplotlib import pyplot \n"
   ]
  },
  {
   "cell_type": "code",
   "execution_count": 2,
   "metadata": {},
   "outputs": [],
   "source": [
    "from sklearn.linear_model import ElasticNet, Lasso,  BayesianRidge, LassoLarsIC\n",
    "from sklearn.ensemble import RandomForestRegressor,  GradientBoostingRegressor\n",
    "from sklearn.model_selection import KFold, cross_val_score, train_test_split\n",
    "from sklearn.metrics import mean_squared_error\n",
    "import xgboost as xgb\n",
    "import lightgbm as lgb\n",
    "\n",
    "from sklearn.decomposition import PCA\n",
    "from sklearn import metrics\n",
    "from sklearn.linear_model import LinearRegression\n",
    "\n",
    "from sklearn import linear_model\n",
    "from sklearn.metrics import r2_score\n",
    "\n",
    "from sklearn.model_selection import train_test_split\n",
    "from sklearn.metrics import accuracy_score, precision_score, recall_score, confusion_matrix, plot_confusion_matrix, f1_score, matthews_corrcoef\n",
    "from sklearn import tree\n",
    "\n",
    "from sklearn import tree\n",
    "from sklearn import preprocessing\n",
    "from sklearn.tree import DecisionTreeClassifier \n",
    "from sklearn import metrics \n",
    "\n",
    "import time\n",
    "from xgboost import XGBClassifier\n",
    "from sklearn.model_selection import RandomizedSearchCV\n",
    "from sklearn.model_selection import KFold\n",
    "\n",
    "\n"
   ]
  },
  {
   "cell_type": "code",
   "execution_count": 3,
   "metadata": {},
   "outputs": [
    {
     "data": {
      "text/html": [
       "<div>\n",
       "<style scoped>\n",
       "    .dataframe tbody tr th:only-of-type {\n",
       "        vertical-align: middle;\n",
       "    }\n",
       "\n",
       "    .dataframe tbody tr th {\n",
       "        vertical-align: top;\n",
       "    }\n",
       "\n",
       "    .dataframe thead th {\n",
       "        text-align: right;\n",
       "    }\n",
       "</style>\n",
       "<table border=\"1\" class=\"dataframe\">\n",
       "  <thead>\n",
       "    <tr style=\"text-align: right;\">\n",
       "      <th></th>\n",
       "      <th>lat_rounded</th>\n",
       "      <th>lng_rounded</th>\n",
       "      <th>price</th>\n",
       "      <th>m2</th>\n",
       "      <th>unit_price</th>\n",
       "    </tr>\n",
       "  </thead>\n",
       "  <tbody>\n",
       "    <tr>\n",
       "      <th>0</th>\n",
       "      <td>39.9066</td>\n",
       "      <td>32.8173</td>\n",
       "      <td>420000</td>\n",
       "      <td>130.0</td>\n",
       "      <td>3230.769231</td>\n",
       "    </tr>\n",
       "    <tr>\n",
       "      <th>1</th>\n",
       "      <td>39.8836</td>\n",
       "      <td>32.8177</td>\n",
       "      <td>365000</td>\n",
       "      <td>145.0</td>\n",
       "      <td>2517.241379</td>\n",
       "    </tr>\n",
       "    <tr>\n",
       "      <th>2</th>\n",
       "      <td>39.8877</td>\n",
       "      <td>32.8182</td>\n",
       "      <td>495000</td>\n",
       "      <td>150.0</td>\n",
       "      <td>3300.000000</td>\n",
       "    </tr>\n",
       "    <tr>\n",
       "      <th>3</th>\n",
       "      <td>39.9282</td>\n",
       "      <td>32.8530</td>\n",
       "      <td>175000</td>\n",
       "      <td>92.0</td>\n",
       "      <td>1902.173913</td>\n",
       "    </tr>\n",
       "    <tr>\n",
       "      <th>4</th>\n",
       "      <td>39.8902</td>\n",
       "      <td>32.8355</td>\n",
       "      <td>245000</td>\n",
       "      <td>140.0</td>\n",
       "      <td>1750.000000</td>\n",
       "    </tr>\n",
       "  </tbody>\n",
       "</table>\n",
       "</div>"
      ],
      "text/plain": [
       "   lat_rounded  lng_rounded   price     m2   unit_price\n",
       "0      39.9066      32.8173  420000  130.0  3230.769231\n",
       "1      39.8836      32.8177  365000  145.0  2517.241379\n",
       "2      39.8877      32.8182  495000  150.0  3300.000000\n",
       "3      39.9282      32.8530  175000   92.0  1902.173913\n",
       "4      39.8902      32.8355  245000  140.0  1750.000000"
      ]
     },
     "execution_count": 3,
     "metadata": {},
     "output_type": "execute_result"
    }
   ],
   "source": [
    "# load data\n",
    "data = pd.read_csv(\"/Users/macbook/Documents/IS709/df_preprocessed.csv\")\n",
    "data.head()"
   ]
  },
  {
   "cell_type": "code",
   "execution_count": 4,
   "metadata": {},
   "outputs": [],
   "source": [
    "# drop uni_price\n",
    "df = data.drop(['unit_price'], axis = 1) "
   ]
  },
  {
   "cell_type": "code",
   "execution_count": 5,
   "metadata": {},
   "outputs": [
    {
     "data": {
      "text/html": [
       "<div>\n",
       "<style scoped>\n",
       "    .dataframe tbody tr th:only-of-type {\n",
       "        vertical-align: middle;\n",
       "    }\n",
       "\n",
       "    .dataframe tbody tr th {\n",
       "        vertical-align: top;\n",
       "    }\n",
       "\n",
       "    .dataframe thead th {\n",
       "        text-align: right;\n",
       "    }\n",
       "</style>\n",
       "<table border=\"1\" class=\"dataframe\">\n",
       "  <thead>\n",
       "    <tr style=\"text-align: right;\">\n",
       "      <th></th>\n",
       "      <th>lat_rounded</th>\n",
       "      <th>lng_rounded</th>\n",
       "      <th>price</th>\n",
       "      <th>m2</th>\n",
       "    </tr>\n",
       "  </thead>\n",
       "  <tbody>\n",
       "    <tr>\n",
       "      <th>count</th>\n",
       "      <td>31670.000000</td>\n",
       "      <td>31670.000000</td>\n",
       "      <td>3.167000e+04</td>\n",
       "      <td>31670.000000</td>\n",
       "    </tr>\n",
       "    <tr>\n",
       "      <th>mean</th>\n",
       "      <td>39.926832</td>\n",
       "      <td>32.790296</td>\n",
       "      <td>3.434500e+05</td>\n",
       "      <td>140.748911</td>\n",
       "    </tr>\n",
       "    <tr>\n",
       "      <th>std</th>\n",
       "      <td>0.066048</td>\n",
       "      <td>0.112589</td>\n",
       "      <td>1.897823e+05</td>\n",
       "      <td>43.664224</td>\n",
       "    </tr>\n",
       "    <tr>\n",
       "      <th>min</th>\n",
       "      <td>38.936100</td>\n",
       "      <td>31.900500</td>\n",
       "      <td>6.250000e+04</td>\n",
       "      <td>40.000000</td>\n",
       "    </tr>\n",
       "    <tr>\n",
       "      <th>25%</th>\n",
       "      <td>39.882700</td>\n",
       "      <td>32.719200</td>\n",
       "      <td>2.100000e+05</td>\n",
       "      <td>115.000000</td>\n",
       "    </tr>\n",
       "    <tr>\n",
       "      <th>50%</th>\n",
       "      <td>39.922600</td>\n",
       "      <td>32.827300</td>\n",
       "      <td>2.950000e+05</td>\n",
       "      <td>130.000000</td>\n",
       "    </tr>\n",
       "    <tr>\n",
       "      <th>75%</th>\n",
       "      <td>39.974600</td>\n",
       "      <td>32.859500</td>\n",
       "      <td>4.200000e+05</td>\n",
       "      <td>165.000000</td>\n",
       "    </tr>\n",
       "    <tr>\n",
       "      <th>max</th>\n",
       "      <td>40.524500</td>\n",
       "      <td>33.539400</td>\n",
       "      <td>1.650000e+06</td>\n",
       "      <td>280.000000</td>\n",
       "    </tr>\n",
       "  </tbody>\n",
       "</table>\n",
       "</div>"
      ],
      "text/plain": [
       "        lat_rounded   lng_rounded         price            m2\n",
       "count  31670.000000  31670.000000  3.167000e+04  31670.000000\n",
       "mean      39.926832     32.790296  3.434500e+05    140.748911\n",
       "std        0.066048      0.112589  1.897823e+05     43.664224\n",
       "min       38.936100     31.900500  6.250000e+04     40.000000\n",
       "25%       39.882700     32.719200  2.100000e+05    115.000000\n",
       "50%       39.922600     32.827300  2.950000e+05    130.000000\n",
       "75%       39.974600     32.859500  4.200000e+05    165.000000\n",
       "max       40.524500     33.539400  1.650000e+06    280.000000"
      ]
     },
     "execution_count": 5,
     "metadata": {},
     "output_type": "execute_result"
    }
   ],
   "source": [
    "df.describe()"
   ]
  },
  {
   "cell_type": "code",
   "execution_count": 6,
   "metadata": {},
   "outputs": [
    {
     "data": {
      "image/png": "[encoded data removed]",
      "text/plain": [
       "<Figure size 1080x1440 with 12 Axes>"
      ]
     },
     "metadata": {
      "needs_background": "light"
     },
     "output_type": "display_data"
    }
   ],
   "source": [
    "# visualize\n",
    "f, axes = plt.subplots(4, 3, figsize=(15, 20))\n",
    "sns.despine(right=True)\n",
    "for i in range(4):      \n",
    "    sns.distplot(df.iloc[:,i], ax=axes[i,0], kde=True) #because of the version here I type distplot\n",
    "    sns.boxplot(x=df.iloc[:,i], ax=axes[i,1])\n",
    "    sns.violinplot(x=df.iloc[:,i], ax=axes[i,2])"
   ]
  },
  {
   "cell_type": "markdown",
   "metadata": {},
   "source": [
    "## REGRESSION (4 Models)\n",
    "\n",
    "We will try **Multiple Lineart, XGBoost, Random Forest**"
   ]
  },
  {
   "cell_type": "markdown",
   "metadata": {},
   "source": [
    "**Train-validate-test Splits**"
   ]
  },
  {
   "cell_type": "code",
   "execution_count": 7,
   "metadata": {},
   "outputs": [
    {
     "name": "stdout",
     "output_type": "stream",
     "text": [
      "60-10-10 (19002, 3) (6334, 3) (6334, 3) (19002,) (6334,) (6334,)\n",
      "70-15-15 (22169, 3) (4750, 3) (4751, 3) (22169,) (4750,) (4751,)\n",
      "80-10-10 (25336, 3) (3167, 3) (3167, 3) (25336,) (3167,) (3167,)\n"
     ]
    }
   ],
   "source": [
    "x=df.drop(\"price\", axis=1)\n",
    "y=df[\"price\"]\n",
    "\n",
    "# %60\n",
    "x_train_60, x_rest, y_train_60, y_rest = train_test_split(x,y, test_size=0.4, random_state=55)\n",
    "x_valid_20, x_test_20, y_valid_20, y_test_20 = train_test_split(x_rest,y_rest, test_size=0.5, random_state=38)\n",
    "print(\"60-10-10\", x_train_60.shape, x_valid_20.shape, x_test_20.shape, y_train_60.shape, y_valid_20.shape, y_test_20.shape )\n",
    "\n",
    "# %70\n",
    "x_train_70, x_rest, y_train_70, y_rest = train_test_split(x,y, test_size=0.3, random_state=55)\n",
    "x_valid_15, x_test_15, y_valid_15, y_test_15 = train_test_split(x_rest,y_rest, test_size=0.5, random_state=38)\n",
    "print(\"70-15-15\",x_train_70.shape, x_valid_15.shape, x_test_15.shape, y_train_70.shape, y_valid_15.shape, y_test_15.shape )\n",
    "\n",
    "# %80\n",
    "x_train_80, x_rest, y_train_80, y_rest = train_test_split(x,y, test_size=0.2, random_state=55)\n",
    "x_valid_10, x_test_10, y_valid_10, y_test_10 = train_test_split(x_rest,y_rest, test_size=0.5, random_state=38)\n",
    "print(\"80-10-10\",x_train_80.shape, x_valid_10.shape, x_test_10.shape, y_train_80.shape, y_valid_10.shape, y_test_10.shape )\n",
    "\n",
    "\n"
   ]
  },
  {
   "cell_type": "code",
   "execution_count": 8,
   "metadata": {},
   "outputs": [],
   "source": [
    "# scatter plot function\n",
    "def plotter(y_test, model_pred):\n",
    "    plt.figure(figsize=(10,10))\n",
    "    plt.suptitle('Comparison of Predicted and True Price Values', fontsize=18)\n",
    "    plt.scatter(y_test, model_pred, c='crimson')\n",
    "    p1 = max(max(model_pred), max(y_test))\n",
    "    p2 = min(min(model_pred), min(y_test))\n",
    "    plt.plot([p1, p2], [p1, p2], 'b-')\n",
    "    plt.xlabel('True Values', fontsize=15)\n",
    "    plt.ylabel('Predicted', fontsize=15)\n",
    "    plt.axis('equal')\n",
    "    return plt.show()"
   ]
  },
  {
   "cell_type": "code",
   "execution_count": 9,
   "metadata": {},
   "outputs": [
    {
     "data": {
      "text/html": [
       "<div>\n",
       "<style scoped>\n",
       "    .dataframe tbody tr th:only-of-type {\n",
       "        vertical-align: middle;\n",
       "    }\n",
       "\n",
       "    .dataframe tbody tr th {\n",
       "        vertical-align: top;\n",
       "    }\n",
       "\n",
       "    .dataframe thead th {\n",
       "        text-align: right;\n",
       "    }\n",
       "</style>\n",
       "<table border=\"1\" class=\"dataframe\">\n",
       "  <thead>\n",
       "    <tr style=\"text-align: right;\">\n",
       "      <th></th>\n",
       "      <th>split_proportion</th>\n",
       "      <th>model</th>\n",
       "      <th>metric</th>\n",
       "      <th>train</th>\n",
       "      <th>valid</th>\n",
       "      <th>test</th>\n",
       "    </tr>\n",
       "  </thead>\n",
       "  <tbody>\n",
       "  </tbody>\n",
       "</table>\n",
       "</div>"
      ],
      "text/plain": [
       "Empty DataFrame\n",
       "Columns: [split_proportion, model, metric, train, valid, test]\n",
       "Index: []"
      ]
     },
     "execution_count": 9,
     "metadata": {},
     "output_type": "execute_result"
    }
   ],
   "source": [
    "# save each proportions' performance on train-valid-test splits\n",
    "#records_splits=pd.DataFrame(columns=[\"split_proportion\", \"model\",\"metric\", \"train\", \"valid\", \"test\"])\n",
    "#records_splits"
   ]
  },
  {
   "cell_type": "markdown",
   "metadata": {},
   "source": [
    "## XGBoost\n",
    "\n",
    "https://www.analyticsvidhya.com/blog/2016/03/complete-guide-parameter-tuning-xgboost-with-codes-python/"
   ]
  },
  {
   "cell_type": "code",
   "execution_count": 10,
   "metadata": {},
   "outputs": [],
   "source": [
    "#DEFINE which split to use in model\n",
    "x_train, y_train = x_train_80, y_train_80\n",
    "x_valid, y_valid = x_valid_10, y_valid_10\n",
    "x_test, y_test = x_test_10, y_test_10"
   ]
  },
  {
   "cell_type": "markdown",
   "metadata": {},
   "source": [
    "#### HYPERPARAMETER TUNING"
   ]
  },
  {
   "cell_type": "code",
   "execution_count": 11,
   "metadata": {},
   "outputs": [
    {
     "name": "stdout",
     "output_type": "stream",
     "text": [
      "Best: -9061929992.865881 using {'subsample': 0.7999999999999999, 'n_estimators': 225, 'min_child_weight': 5, 'max_depth': 9, 'learning_rate': 0.0535, 'gamma': 0.2, 'colsample_bytree': 0.8999999999999999}\n",
      "344.44772028923035\n"
     ]
    }
   ],
   "source": [
    "start_time=time.time()\n",
    "\n",
    "#### Define X and Y training data here\n",
    "X = x_train_80\n",
    "Y = y_train_80\n",
    "\n",
    "# grid search\n",
    "model = xgb.XGBRegressor()\n",
    "\n",
    "param_grid = {\n",
    "        'n_estimators' : np.arange(25,500,50),\n",
    "        'max_depth': [3, 5, 7, 9, 11],\n",
    "        'min_child_weight': np.arange(1, 6, 2),\n",
    "        'gamma': np.arange(0.0,0.5,0.1),\n",
    "        'learning_rate': np.arange(0.0005,0.2,0.0005),\n",
    "        'subsample': np.arange(0.6,1.0,0.1),\n",
    "        'colsample_bytree': np.arange(0.6,1.0,0.1)}\n",
    "\n",
    "kfold = KFold(n_splits=5, shuffle=True, random_state=10)\n",
    "grid_search = RandomizedSearchCV(model, param_grid, scoring=\"neg_mean_squared_error\", n_iter = 50, cv=kfold)\n",
    "grid_result = grid_search.fit(X,Y)\n",
    "\n",
    "# summarize results\n",
    "print(\"Best: %f using %s\" % (grid_result.best_score_, grid_result.best_params_))\n",
    "means = grid_result.cv_results_[ 'mean_test_score' ]\n",
    "stds = grid_result.cv_results_[ 'std_test_score' ]\n",
    "params = grid_result.cv_results_[ 'params' ]\n",
    "\n",
    "print(time.time()-start_time)"
   ]
  },
  {
   "cell_type": "code",
   "execution_count": 12,
   "metadata": {},
   "outputs": [],
   "source": [
    "# INITIALIZE MODEL\n",
    "model_xgb = xgb.XGBRegressor(colsample_bytree=0.8, gamma=0.2, \n",
    "                             learning_rate=0.036, max_depth=9, \n",
    "                             min_child_weight=1, n_estimators=225,\n",
    "                             reg_alpha=0.01, reg_lambda=0.01,\n",
    "                             subsample=0.9,seed=42,\n",
    "                             random_state =7)\n"
   ]
  },
  {
   "cell_type": "code",
   "execution_count": 13,
   "metadata": {},
   "outputs": [],
   "source": [
    "# FIT AND PREDICT\n",
    "model_xgb.fit(x_train, y_train)\n",
    "xgb_pred_train = model_xgb.predict(x_train)\n",
    "xgb_pred_valid = model_xgb.predict(x_valid)\n",
    "xgb_pred_test = model_xgb.predict(x_test)"
   ]
  },
  {
   "cell_type": "code",
   "execution_count": 14,
   "metadata": {},
   "outputs": [
    {
     "name": "stdout",
     "output_type": "stream",
     "text": [
      "R2: 0.879\n",
      "Mean Absolute Error: 46629.739\n",
      "Mean Squared Error: 4323216555.109\n",
      "Root Mean Squared Error: 65751.172\n"
     ]
    }
   ],
   "source": [
    "# results for training set\n",
    "print('R2: %.3f' % r2_score(y_train, xgb_pred_train, multioutput='variance_weighted'))\n",
    "print('Mean Absolute Error: %.3f' % metrics.mean_absolute_error(y_train, xgb_pred_train))\n",
    "print('Mean Squared Error: %.3f' % metrics.mean_squared_error(y_train, xgb_pred_train))\n",
    "print('Root Mean Squared Error: %.3f' % np.sqrt(metrics.mean_squared_error(y_train, xgb_pred_train)))"
   ]
  },
  {
   "cell_type": "code",
   "execution_count": 15,
   "metadata": {},
   "outputs": [
    {
     "name": "stdout",
     "output_type": "stream",
     "text": [
      "R2: 0.758\n",
      "Mean Absolute Error: 62555.415\n",
      "Mean Squared Error: 8810806822.442\n",
      "Root Mean Squared Error: 93865.898\n"
     ]
    }
   ],
   "source": [
    "# results for validation set\n",
    "print('R2: %.3f' % r2_score(y_valid, xgb_pred_valid, multioutput='variance_weighted'))\n",
    "print('Mean Absolute Error: %.3f' % metrics.mean_absolute_error(y_valid, xgb_pred_valid))\n",
    "print('Mean Squared Error: %.3f' % metrics.mean_squared_error(y_valid, xgb_pred_valid))\n",
    "print('Root Mean Squared Error: %.3f' % np.sqrt(metrics.mean_squared_error(y_valid, xgb_pred_valid)))"
   ]
  },
  {
   "cell_type": "code",
   "execution_count": 16,
   "metadata": {},
   "outputs": [
    {
     "name": "stdout",
     "output_type": "stream",
     "text": [
      "R2: 0.760\n",
      "Mean Absolute Error: 63918.744\n",
      "Mean Squared Error: 9131873074.557\n",
      "Root Mean Squared Error: 95560.834\n"
     ]
    }
   ],
   "source": [
    "# results for test set\n",
    "print('R2: %.3f' % r2_score(y_test, xgb_pred_test, multioutput='variance_weighted'))\n",
    "print('Mean Absolute Error: %.3f' % metrics.mean_absolute_error(y_test, xgb_pred_test))\n",
    "print('Mean Squared Error: %.3f' % metrics.mean_squared_error(y_test, xgb_pred_test))\n",
    "print('Root Mean Squared Error: %.3f' % np.sqrt(metrics.mean_squared_error(y_test, xgb_pred_test)))"
   ]
  },
  {
   "cell_type": "code",
   "execution_count": 17,
   "metadata": {},
   "outputs": [
    {
     "data": {
      "image/png": "[encoded data removed]",
      "text/plain": [
       "<Figure size 720x720 with 1 Axes>"
      ]
     },
     "metadata": {
      "needs_background": "light"
     },
     "output_type": "display_data"
    }
   ],
   "source": [
    "plotter(y_test, xgb_pred_test)"
   ]
  },
  {
   "cell_type": "code",
   "execution_count": 18,
   "metadata": {},
   "outputs": [],
   "source": [
    "# save 80-20-20 split records \n",
    "#records_splits.loc[0]=[\"80-10-10\",\"XGB\",\"r2\", r2_score(y_train, xgb_pred_train, multioutput='variance_weighted'), r2_score(y_valid, xgb_pred_valid, multioutput='variance_weighted'), r2_score(y_test, xgb_pred_test, multioutput='variance_weighted') ]\n",
    "#records_splits.loc[1]=[\"80-10-10\",\"XGB\",\"MAE\", metrics.mean_absolute_error(y_train, xgb_pred_train), metrics.mean_absolute_error(y_valid, xgb_pred_valid), metrics.mean_absolute_error(y_test, xgb_pred_test)]\n",
    "#records_splits.loc[2]=[\"80-10-10\",\"XGB\",\"MSE\", metrics.mean_squared_error(y_train, xgb_pred_train), metrics.mean_squared_error(y_valid, xgb_pred_valid), metrics.mean_squared_error(y_test, xgb_pred_test)]\n",
    "#records_splits.loc[3]=[\"80-10-10\",\"XGB\",\"RMSE\", np.sqrt(metrics.mean_squared_error(y_train, xgb_pred_train)), np.sqrt(metrics.mean_squared_error(y_valid, xgb_pred_valid)), np.sqrt(metrics.mean_squared_error(y_test, xgb_pred_test))]\n"
   ]
  },
  {
   "cell_type": "code",
   "execution_count": 19,
   "metadata": {},
   "outputs": [],
   "source": [
    "## save 70-15-15 split records \n",
    "## set split\n",
    "#x_train, y_train = x_train_70, y_train_70\n",
    "#x_valid, y_valid = x_valid_15, y_valid_15\n",
    "#x_test, y_test = x_test_15, y_test_15\n",
    "## predict\n",
    "#model_xgb.fit(x_train, y_train)\n",
    "#xgb_pred_train = model_xgb.predict(x_train)\n",
    "#xgb_pred_valid = model_xgb.predict(x_valid)\n",
    "#xgb_pred_test = model_xgb.predict(x_test)\n",
    "## write\n",
    "#records_splits.loc[4]=[\"70-15-15\",\"XGB\",\"r2\", r2_score(y_train, xgb_pred_train, multioutput='variance_weighted'), r2_score(y_valid, xgb_pred_valid, multioutput='variance_weighted'), r2_score(y_test, xgb_pred_test, multioutput='variance_weighted') ]\n",
    "#records_splits.loc[5]=[\"70-15-15\",\"XGB\",\"MAE\", metrics.mean_absolute_error(y_train, xgb_pred_train), metrics.mean_absolute_error(y_valid, xgb_pred_valid), metrics.mean_absolute_error(y_test, xgb_pred_test)]\n",
    "#records_splits.loc[6]=[\"70-15-15\",\"XGB\",\"MSE\", metrics.mean_squared_error(y_train, xgb_pred_train), metrics.mean_squared_error(y_valid, xgb_pred_valid), metrics.mean_squared_error(y_test, xgb_pred_test)]\n",
    "#records_splits.loc[7]=[\"70-15-15\",\"XGB\",\"RMSE\", np.sqrt(metrics.mean_squared_error(y_train, xgb_pred_train)), np.sqrt(metrics.mean_squared_error(y_valid, xgb_pred_valid)), np.sqrt(metrics.mean_squared_error(y_test, xgb_pred_test))]\n"
   ]
  },
  {
   "cell_type": "code",
   "execution_count": 20,
   "metadata": {},
   "outputs": [],
   "source": [
    "## save 60-20-20 split records \n",
    "## set split\n",
    "#x_train, y_train = x_train_60, y_train_60\n",
    "#x_valid, y_valid = x_valid_20, y_valid_20\n",
    "#x_test, y_test = x_test_20, y_test_20\n",
    "## predict\n",
    "#model_xgb.fit(x_train, y_train)\n",
    "#xgb_pred_train = model_xgb.predict(x_train)\n",
    "#xgb_pred_valid = model_xgb.predict(x_valid)\n",
    "#xgb_pred_test = model_xgb.predict(x_test)\n",
    "## save\n",
    "#records_splits.loc[8]=[\"60-20-20\",\"XGB\",\"r2\", r2_score(y_train, xgb_pred_train, multioutput='variance_weighted'), r2_score(y_valid, xgb_pred_valid, multioutput='variance_weighted'), r2_score(y_test, xgb_pred_test, multioutput='variance_weighted') ]\n",
    "#records_splits.loc[9]=[\"60-20-20\",\"XGB\",\"MAE\", metrics.mean_absolute_error(y_train, xgb_pred_train), metrics.mean_absolute_error(y_valid, xgb_pred_valid), metrics.mean_absolute_error(y_test, xgb_pred_test)]\n",
    "#records_splits.loc[10]=[\"60-20-20\",\"XGB\",\"MSE\", metrics.mean_squared_error(y_train, xgb_pred_train), metrics.mean_squared_error(y_valid, xgb_pred_valid), metrics.mean_squared_error(y_test, xgb_pred_test)]\n",
    "#records_splits.loc[11]=[\"60-20-20\",\"XGB\",\"RMSE\", np.sqrt(metrics.mean_squared_error(y_train, xgb_pred_train)), np.sqrt(metrics.mean_squared_error(y_valid, xgb_pred_valid)), np.sqrt(metrics.mean_squared_error(y_test, xgb_pred_test))]\n"
   ]
  },
  {
   "cell_type": "code",
   "execution_count": 21,
   "metadata": {},
   "outputs": [],
   "source": [
    "#records_splits[records_splits[\"metric\"] == \"MSE\"].sort_values(by=['test'], ascending=True)"
   ]
  },
  {
   "cell_type": "markdown",
   "metadata": {},
   "source": [
    "## Random Forest\n",
    "\n",
    "https://towardsdatascience.com/hyperparameter-tuning-the-random-forest-in-python-using-scikit-learn-28d2aa77dd74"
   ]
  },
  {
   "cell_type": "code",
   "execution_count": 22,
   "metadata": {},
   "outputs": [],
   "source": [
    "#DEFINE which split to use in model\n",
    "x_train, y_train = x_train_80, y_train_80\n",
    "x_valid, y_valid = x_valid_10, y_valid_10\n",
    "x_test, y_test = x_test_10, y_test_10"
   ]
  },
  {
   "cell_type": "markdown",
   "metadata": {},
   "source": [
    "### HYPERPARAMATER TUNING "
   ]
  },
  {
   "cell_type": "code",
   "execution_count": 23,
   "metadata": {},
   "outputs": [
    {
     "name": "stdout",
     "output_type": "stream",
     "text": [
      "{'n_estimators': [200, 288, 377, 466, 555, 644, 733, 822, 911, 1000], 'max_features': ['auto', 'sqrt'], 'max_depth': [10, 20, 30, 40, 50, 60, 70, 80, 90, 100, 110, None], 'min_samples_split': [2, 5, 10], 'min_samples_leaf': [1, 2, 4], 'bootstrap': [True, False]}\n"
     ]
    }
   ],
   "source": [
    "# Number of trees in random forest\n",
    "n_estimators = [int(x) for x in np.linspace(start = 200, stop = 1000, num = 10)]\n",
    "# Number of features to consider at every split\n",
    "max_features = ['auto', 'sqrt']\n",
    "# Maximum number of levels in tree\n",
    "max_depth = [int(x) for x in np.linspace(10, 110, num = 11)]\n",
    "max_depth.append(None)\n",
    "# Minimum number of samples required to split a node\n",
    "min_samples_split = [2, 5, 10]\n",
    "# Minimum number of samples required at each leaf node\n",
    "min_samples_leaf = [1, 2, 4]\n",
    "# Method of selecting samples for training each tree\n",
    "bootstrap = [True, False]\n",
    "# Create the random grid\n",
    "random_grid = {'n_estimators': n_estimators,\n",
    "               'max_features': max_features,\n",
    "               'max_depth': max_depth,\n",
    "               'min_samples_split': min_samples_split,\n",
    "               'min_samples_leaf': min_samples_leaf,\n",
    "               'bootstrap': bootstrap}\n",
    "\n",
    "print(random_grid)\n"
   ]
  },
  {
   "cell_type": "code",
   "execution_count": 24,
   "metadata": {},
   "outputs": [
    {
     "name": "stdout",
     "output_type": "stream",
     "text": [
      "Fitting 5 folds for each of 50 candidates, totalling 250 fits\n"
     ]
    },
    {
     "name": "stderr",
     "output_type": "stream",
     "text": [
      "[Parallel(n_jobs=-1)]: Using backend LokyBackend with 16 concurrent workers.\n",
      "[Parallel(n_jobs=-1)]: Done   9 tasks      | elapsed:   16.5s\n",
      "[Parallel(n_jobs=-1)]: Done 130 tasks      | elapsed:  4.4min\n",
      "[Parallel(n_jobs=-1)]: Done 250 out of 250 | elapsed:  7.3min finished\n"
     ]
    },
    {
     "data": {
      "text/plain": [
       "RandomizedSearchCV(cv=5, estimator=RandomForestRegressor(), n_iter=50,\n",
       "                   n_jobs=-1,\n",
       "                   param_distributions={'bootstrap': [True, False],\n",
       "                                        'max_depth': [10, 20, 30, 40, 50, 60,\n",
       "                                                      70, 80, 90, 100, 110,\n",
       "                                                      None],\n",
       "                                        'max_features': ['auto', 'sqrt'],\n",
       "                                        'min_samples_leaf': [1, 2, 4],\n",
       "                                        'min_samples_split': [2, 5, 10],\n",
       "                                        'n_estimators': [200, 288, 377, 466,\n",
       "                                                         555, 644, 733, 822,\n",
       "                                                         911, 1000]},\n",
       "                   random_state=42, verbose=2)"
      ]
     },
     "execution_count": 24,
     "metadata": {},
     "output_type": "execute_result"
    }
   ],
   "source": [
    "# Use the random grid to search for best hyperparameters\n",
    "# First create the base model to tune\n",
    "rf = RandomForestRegressor()\n",
    "# Random search of parameters, using 3 fold cross validation, \n",
    "# search across 100 different combinations, and use all available cores\n",
    "rf_random = RandomizedSearchCV(estimator = rf, param_distributions = random_grid, n_iter = 50, cv = 5, verbose=2, random_state=42, n_jobs = -1)\n",
    "# Fit the random search model\n",
    "rf_random.fit(x_train, y_train)"
   ]
  },
  {
   "cell_type": "code",
   "execution_count": 25,
   "metadata": {},
   "outputs": [
    {
     "data": {
      "text/plain": [
       "{'n_estimators': 555,\n",
       " 'min_samples_split': 2,\n",
       " 'min_samples_leaf': 1,\n",
       " 'max_features': 'sqrt',\n",
       " 'max_depth': 20,\n",
       " 'bootstrap': True}"
      ]
     },
     "execution_count": 25,
     "metadata": {},
     "output_type": "execute_result"
    }
   ],
   "source": [
    "rf_random.best_params_"
   ]
  },
  {
   "cell_type": "code",
   "execution_count": 26,
   "metadata": {},
   "outputs": [],
   "source": [
    "# INITIALIZE MODEL\n",
    "model_rf = RandomForestRegressor(n_estimators =555, min_samples_leaf= 1, \n",
    "                                 max_features = 'sqrt', max_depth = 20, bootstrap= True, \n",
    "                                 random_state = 40)"
   ]
  },
  {
   "cell_type": "markdown",
   "metadata": {},
   "source": [
    "{'n_estimators': 1400,\n",
    " 'min_samples_split': 5,\n",
    " 'min_samples_leaf': 1,\n",
    " 'max_features': 'sqrt',\n",
    " 'max_depth': 30,\n",
    " 'bootstrap': True}\n",
    " \n",
    " {'n_estimators': 1000,\n",
    " 'min_samples_split': 2,\n",
    " 'min_samples_leaf': 1,\n",
    " 'max_features': 'sqrt',\n",
    " 'max_depth': 20,\n",
    " 'bootstrap': True}\n",
    " \n",
    " {'n_estimators': 555,\n",
    " 'min_samples_split': 2,\n",
    " 'min_samples_leaf': 1,\n",
    " 'max_features': 'sqrt',\n",
    " 'max_depth': 20,\n",
    " 'bootstrap': True}"
   ]
  },
  {
   "cell_type": "code",
   "execution_count": 27,
   "metadata": {},
   "outputs": [],
   "source": [
    "# FIT AND PREDICT\n",
    "model_rf.fit(x_train, y_train)\n",
    "rf_pred_train = model_rf.predict(x_train)\n",
    "rf_pred_valid = model_rf.predict(x_valid)\n",
    "rf_pred_test = model_rf.predict(x_test)"
   ]
  },
  {
   "cell_type": "code",
   "execution_count": 28,
   "metadata": {},
   "outputs": [
    {
     "name": "stdout",
     "output_type": "stream",
     "text": [
      "R2: 0.954\n",
      "Mean Absolute Error: 27908.547\n",
      "Mean Squared Error: 1624953112.806\n",
      "Root Mean Squared Error: 40310.707\n"
     ]
    }
   ],
   "source": [
    "# results for training set\n",
    "print('R2: %.3f' % r2_score(y_train, rf_pred_train, multioutput='variance_weighted'))\n",
    "print('Mean Absolute Error: %.3f' % metrics.mean_absolute_error(y_train, rf_pred_train))\n",
    "print('Mean Squared Error: %.3f' % metrics.mean_squared_error(y_train, rf_pred_train))\n",
    "print('Root Mean Squared Error: %.3f' % np.sqrt(metrics.mean_squared_error(y_train, rf_pred_train)))"
   ]
  },
  {
   "cell_type": "code",
   "execution_count": 29,
   "metadata": {},
   "outputs": [
    {
     "name": "stdout",
     "output_type": "stream",
     "text": [
      "R2: 0.773\n",
      "Mean Absolute Error: 60285.600\n",
      "Mean Squared Error: 8264915446.822\n",
      "Root Mean Squared Error: 90911.580\n"
     ]
    }
   ],
   "source": [
    "# results for validation set\n",
    "print('R2: %.3f' % r2_score(y_valid, rf_pred_valid, multioutput='variance_weighted'))\n",
    "print('Mean Absolute Error: %.3f' % metrics.mean_absolute_error(y_valid, rf_pred_valid))\n",
    "print('Mean Squared Error: %.3f' % metrics.mean_squared_error(y_valid, rf_pred_valid))\n",
    "print('Root Mean Squared Error: %.3f' % np.sqrt(metrics.mean_squared_error(y_valid, rf_pred_valid)))"
   ]
  },
  {
   "cell_type": "code",
   "execution_count": 30,
   "metadata": {},
   "outputs": [
    {
     "name": "stdout",
     "output_type": "stream",
     "text": [
      "R2: 0.781\n",
      "Mean Absolute Error: 60470.624\n",
      "Mean Squared Error: 8357511681.331\n",
      "Root Mean Squared Error: 91419.427\n"
     ]
    }
   ],
   "source": [
    "# results for test set\n",
    "print('R2: %.3f' % r2_score(y_test, rf_pred_test, multioutput='variance_weighted'))\n",
    "print('Mean Absolute Error: %.3f' % metrics.mean_absolute_error(y_test, rf_pred_test))\n",
    "print('Mean Squared Error: %.3f' % metrics.mean_squared_error(y_test, rf_pred_test))\n",
    "print('Root Mean Squared Error: %.3f' % np.sqrt(metrics.mean_squared_error(y_test, rf_pred_test)))"
   ]
  },
  {
   "cell_type": "code",
   "execution_count": 31,
   "metadata": {},
   "outputs": [
    {
     "data": {
      "image/png": "[encoded data removed]",
      "text/plain": [
       "<Figure size 720x720 with 1 Axes>"
      ]
     },
     "metadata": {
      "needs_background": "light"
     },
     "output_type": "display_data"
    }
   ],
   "source": [
    "plotter(y_train, rf_pred_train)"
   ]
  },
  {
   "cell_type": "code",
   "execution_count": 32,
   "metadata": {},
   "outputs": [],
   "source": [
    "# save 80-20-20 split records \n",
    "#records_splits.loc[24]=[\"80-10-10\",\"RF\",\"r2\", r2_score(y_train, rf_pred_train, multioutput='variance_weighted'), r2_score(y_valid, rf_pred_valid, multioutput='variance_weighted'), r2_score(y_test, rf_pred_test, multioutput='variance_weighted') ]\n",
    "#records_splits.loc[25]=[\"80-10-10\",\"RF\",\"MAE\", metrics.mean_absolute_error(y_train, rf_pred_train), metrics.mean_absolute_error(y_valid, rf_pred_valid), metrics.mean_absolute_error(y_test, rf_pred_test)]\n",
    "#records_splits.loc[26]=[\"80-10-10\",\"RF\",\"MSE\", metrics.mean_squared_error(y_train, rf_pred_train), metrics.mean_squared_error(y_valid, rf_pred_valid), metrics.mean_squared_error(y_test, rf_pred_test)]\n",
    "#records_splits.loc[27]=[\"80-10-10\",\"RF\",\"RMSE\", np.sqrt(metrics.mean_squared_error(y_train, rf_pred_train)), np.sqrt(metrics.mean_squared_error(y_valid, rf_pred_valid)), np.sqrt(metrics.mean_squared_error(y_test, rf_pred_test))]\n"
   ]
  },
  {
   "cell_type": "code",
   "execution_count": 33,
   "metadata": {},
   "outputs": [],
   "source": [
    "# save 70-15-15 split records \n",
    "## set split\n",
    "#x_train, y_train = x_train_70, y_train_70\n",
    "#x_valid, y_valid = x_valid_15, y_valid_15\n",
    "#x_test, y_test = x_test_15, y_test_15\n",
    "## predict\n",
    "#model_rf.fit(x_train, y_train)\n",
    "#rf_pred_train = model_rf.predict(x_train)\n",
    "#rf_pred_valid = model_rf.predict(x_valid)\n",
    "#rf_pred_test = model_rf.predict(x_test)\n",
    "## save\n",
    "#records_splits.loc[28]=[\"70-15-15\",\"RF\",\"r2\", r2_score(y_train, rf_pred_train, multioutput='variance_weighted'), r2_score(y_valid, rf_pred_valid, multioutput='variance_weighted'), r2_score(y_test, rf_pred_test, multioutput='variance_weighted') ]\n",
    "#records_splits.loc[29]=[\"70-15-15\",\"RF\",\"MAE\", metrics.mean_absolute_error(y_train, rf_pred_train), metrics.mean_absolute_error(y_valid, rf_pred_valid), metrics.mean_absolute_error(y_test, rf_pred_test)]\n",
    "#records_splits.loc[30]=[\"70-15-15\",\"RF\",\"MSE\", metrics.mean_squared_error(y_train, rf_pred_train), metrics.mean_squared_error(y_valid, rf_pred_valid), metrics.mean_squared_error(y_test, rf_pred_test)]\n",
    "#records_splits.loc[31]=[\"70-15-15\",\"RF\",\"RMSE\", np.sqrt(metrics.mean_squared_error(y_train, rf_pred_train)), np.sqrt(metrics.mean_squared_error(y_valid, rf_pred_valid)), np.sqrt(metrics.mean_squared_error(y_test, rf_pred_test))]\n"
   ]
  },
  {
   "cell_type": "code",
   "execution_count": 34,
   "metadata": {},
   "outputs": [],
   "source": [
    "# save 60-20-20 split records \n",
    "\n",
    "## predict\n",
    "#model_rf.fit(x_train, y_train)\n",
    "#rf_pred_train = model_rf.predict(x_train)\n",
    "#rf_pred_valid = model_rf.predict(x_valid)\n",
    "#rf_pred_test = model_rf.predict(x_test)\n",
    "## save\n",
    "#records_splits.loc[32]=[\"60-20-20\",\"RF\",\"r2\", r2_score(y_train, rf_pred_train, multioutput='variance_weighted'), r2_score(y_valid, rf_pred_valid, multioutput='variance_weighted'), r2_score(y_test, rf_pred_test, multioutput='variance_weighted') ]\n",
    "#records_splits.loc[33]=[\"60-20-20\",\"RF\",\"MAE\", metrics.mean_absolute_error(y_train, rf_pred_train), metrics.mean_absolute_error(y_valid, rf_pred_valid), metrics.mean_absolute_error(y_test, rf_pred_test)]\n",
    "#records_splits.loc[34]=[\"60-20-20\",\"RF\",\"MSE\", metrics.mean_squared_error(y_train, rf_pred_train), metrics.mean_squared_error(y_valid, rf_pred_valid), metrics.mean_squared_error(y_test, rf_pred_test)]\n",
    "#records_splits.loc[35]=[\"60-20-20\",\"RF\",\"RMSE\", np.sqrt(metrics.mean_squared_error(y_train, rf_pred_train)), np.sqrt(metrics.mean_squared_error(y_valid, rf_pred_valid)), np.sqrt(metrics.mean_squared_error(y_test, rf_pred_test))]\n"
   ]
  },
  {
   "cell_type": "code",
   "execution_count": 35,
   "metadata": {},
   "outputs": [],
   "source": [
    "#records_splits[records_splits[\"metric\"] == \"MSE\"].sort_values(by=['test'], ascending=True)"
   ]
  },
  {
   "cell_type": "markdown",
   "metadata": {},
   "source": [
    "## Multiple Linear Regression"
   ]
  },
  {
   "cell_type": "code",
   "execution_count": 36,
   "metadata": {},
   "outputs": [],
   "source": [
    "#DEFINE which split to use in model\n",
    "x_train, y_train = x_train_80, y_train_80\n",
    "x_valid, y_valid = x_valid_10, y_valid_10\n",
    "x_test, y_test = x_test_10, y_test_10"
   ]
  },
  {
   "cell_type": "code",
   "execution_count": 37,
   "metadata": {},
   "outputs": [],
   "source": [
    "# INITIALIZE MODEL\n",
    "model_mlr = LinearRegression()"
   ]
  },
  {
   "cell_type": "code",
   "execution_count": 38,
   "metadata": {},
   "outputs": [
    {
     "name": "stdout",
     "output_type": "stream",
     "text": [
      "intercept= 17788304.279495947 coefficients= [-521300.90905052   90908.58271837    2757.47068957]\n"
     ]
    }
   ],
   "source": [
    "# FIT AND PREDICT\n",
    "model_mlr.fit(x_train, y_train) \n",
    "print('intercept=', model_mlr.intercept_, 'coefficients=', model_mlr.coef_) ##since there are three predictors, .coef_ returns three values in an array\n",
    "mlr_pred_train = model_mlr.predict(x_train)\n",
    "mlr_pred_valid = model_mlr.predict(x_valid)\n",
    "mlr_pred_test = model_mlr.predict(x_test)"
   ]
  },
  {
   "cell_type": "code",
   "execution_count": 39,
   "metadata": {},
   "outputs": [
    {
     "name": "stdout",
     "output_type": "stream",
     "text": [
      "R2: 0.449\n",
      "Mean Absolute Error: 100680.261\n",
      "Mean Squared Error: 20031515525.794\n",
      "Root Mean Squared Error: 141532.737\n"
     ]
    }
   ],
   "source": [
    "# results for validation set\n",
    "print('R2: %.3f' % r2_score(y_valid, mlr_pred_valid, multioutput='variance_weighted'))\n",
    "print('Mean Absolute Error: %.3f' % metrics.mean_absolute_error(y_valid, mlr_pred_valid))\n",
    "print('Mean Squared Error: %.3f' % metrics.mean_squared_error(y_valid, mlr_pred_valid))\n",
    "print('Root Mean Squared Error: %.3f' % np.sqrt(metrics.mean_squared_error(y_valid, mlr_pred_valid)))"
   ]
  },
  {
   "cell_type": "code",
   "execution_count": 40,
   "metadata": {},
   "outputs": [
    {
     "name": "stdout",
     "output_type": "stream",
     "text": [
      "R2: 0.436\n",
      "Mean Absolute Error: 102363.992\n",
      "Mean Squared Error: 20130507948.959\n",
      "Root Mean Squared Error: 141882.021\n"
     ]
    }
   ],
   "source": [
    "# results for training set\n",
    "print('R2: %.3f' % r2_score(y_train, mlr_pred_train, multioutput='variance_weighted'))\n",
    "print('Mean Absolute Error: %.3f' % metrics.mean_absolute_error(y_train, mlr_pred_train))\n",
    "print('Mean Squared Error: %.3f' % metrics.mean_squared_error(y_train, mlr_pred_train))\n",
    "print('Root Mean Squared Error: %.3f' % np.sqrt(metrics.mean_squared_error(y_train, mlr_pred_train)))"
   ]
  },
  {
   "cell_type": "code",
   "execution_count": 41,
   "metadata": {},
   "outputs": [
    {
     "name": "stdout",
     "output_type": "stream",
     "text": [
      "R2: 0.451\n",
      "Mean Absolute Error: 104681.330\n",
      "Mean Squared Error: 20921081157.644\n",
      "Root Mean Squared Error: 144641.215\n"
     ]
    }
   ],
   "source": [
    "# results for test set\n",
    "print('R2: %.3f' % r2_score(y_test, mlr_pred_test, multioutput='variance_weighted'))\n",
    "print('Mean Absolute Error: %.3f' % metrics.mean_absolute_error(y_test, mlr_pred_test))\n",
    "print('Mean Squared Error: %.3f' % metrics.mean_squared_error(y_test, mlr_pred_test))\n",
    "print('Root Mean Squared Error: %.3f' % np.sqrt(metrics.mean_squared_error(y_test, mlr_pred_test)))"
   ]
  },
  {
   "cell_type": "code",
   "execution_count": 42,
   "metadata": {},
   "outputs": [
    {
     "data": {
      "image/png": "[encoded data removed]",
      "text/plain": [
       "<Figure size 720x720 with 1 Axes>"
      ]
     },
     "metadata": {
      "needs_background": "light"
     },
     "output_type": "display_data"
    }
   ],
   "source": [
    "plotter(y_test, mlr_pred_test)"
   ]
  },
  {
   "cell_type": "code",
   "execution_count": 43,
   "metadata": {},
   "outputs": [],
   "source": [
    "# save 80-20-20 split records \n",
    "#ecords_splits.loc[36]=[\"80-10-10\",\"MLR\",\"r2\", r2_score(y_train, mlr_pred_train, multioutput='variance_weighted'), r2_score(y_valid, mlr_pred_valid, multioutput='variance_weighted'), r2_score(y_test, mlr_pred_test, multioutput='variance_weighted') ]\n",
    "#records_splits.loc[37]=[\"80-10-10\",\"MLR\",\"MAE\", metrics.mean_absolute_error(y_train, mlr_pred_train), metrics.mean_absolute_error(y_valid, mlr_pred_valid), metrics.mean_absolute_error(y_test, mlr_pred_test)]\n",
    "#records_splits.loc[38]=[\"80-10-10\",\"MLR\",\"MSE\", metrics.mean_squared_error(y_train, mlr_pred_train), metrics.mean_squared_error(y_valid, mlr_pred_valid), metrics.mean_squared_error(y_test, mlr_pred_test)]\n",
    "#records_splits.loc[39]=[\"80-10-10\",\"MLR\",\"RMSE\", np.sqrt(metrics.mean_squared_error(y_train, mlr_pred_train)), np.sqrt(metrics.mean_squared_error(y_valid, mlr_pred_valid)), np.sqrt(metrics.mean_squared_error(y_test, mlr_pred_test))]\n"
   ]
  },
  {
   "cell_type": "code",
   "execution_count": 44,
   "metadata": {},
   "outputs": [],
   "source": [
    "# save 70-15-15 split records \n",
    "## set split\n",
    "#x_train, y_train = x_train_70, y_train_70\n",
    "#x_valid, y_valid = x_valid_15, y_valid_15\n",
    "#x_test, y_test = x_test_15, y_test_15\n",
    "## predict\n",
    "#model_rf.fit(x_train, y_train)\n",
    "#mlr_pred_train = model_mlr.predict(x_train)\n",
    "#mlr_pred_valid = model_mlr.predict(x_valid)\n",
    "#mlr_pred_test = model_mlr.predict(x_test)\n",
    "## save\n",
    "#records_splits.loc[40]=[\"70-15-15\",\"MLR\",\"r2\", r2_score(y_train, mlr_pred_train, multioutput='variance_weighted'), r2_score(y_valid, mlr_pred_valid, multioutput='variance_weighted'), r2_score(y_test, mlr_pred_test, multioutput='variance_weighted') ]\n",
    "#records_splits.loc[41]=[\"70-15-15\",\"MLR\",\"MAE\", metrics.mean_absolute_error(y_train, mlr_pred_train), metrics.mean_absolute_error(y_valid, mlr_pred_valid), metrics.mean_absolute_error(y_test, mlr_pred_test)]\n",
    "#records_splits.loc[42]=[\"70-15-15\",\"MLR\",\"MSE\", metrics.mean_squared_error(y_train, mlr_pred_train), metrics.mean_squared_error(y_valid, mlr_pred_valid), metrics.mean_squared_error(y_test, mlr_pred_test)]\n",
    "#records_splits.loc[43]=[\"70-15-15\",\"MLR\",\"RMSE\", np.sqrt(metrics.mean_squared_error(y_train, mlr_pred_train)), np.sqrt(metrics.mean_squared_error(y_valid, mlr_pred_valid)), np.sqrt(metrics.mean_squared_error(y_test, mlr_pred_test))]\n"
   ]
  },
  {
   "cell_type": "code",
   "execution_count": 45,
   "metadata": {},
   "outputs": [],
   "source": [
    "# save 60-20-20 split records \n",
    "## set split\n",
    "#x_train, y_train = x_train_60, y_train_60\n",
    "#x_valid, y_valid = x_valid_20, y_valid_20\n",
    "#x_test, y_test = x_test_20, y_test_20\n",
    "## predict\n",
    "#model_rf.fit(x_train, y_train)\n",
    "#mlr_pred_train = model_mlr.predict(x_train)\n",
    "#mlr_pred_valid = model_mlr.predict(x_valid)\n",
    "#mlr_pred_test = model_mlr.predict(x_test)\n",
    "## save\n",
    "#records_splits.loc[44]=[\"60-20-20\",\"MLR\",\"r2\", r2_score(y_train, mlr_pred_train, multioutput='variance_weighted'), r2_score(y_valid, mlr_pred_valid, multioutput='variance_weighted'), r2_score(y_test, mlr_pred_test, multioutput='variance_weighted') ]\n",
    "#records_splits.loc[45]=[\"60-20-20\",\"MLR\",\"MAE\", metrics.mean_absolute_error(y_train, mlr_pred_train), metrics.mean_absolute_error(y_valid, mlr_pred_valid), metrics.mean_absolute_error(y_test, mlr_pred_test)]\n",
    "#records_splits.loc[46]=[\"60-20-20\",\"MLR\",\"MSE\", metrics.mean_squared_error(y_train, mlr_pred_train), metrics.mean_squared_error(y_valid, mlr_pred_valid), metrics.mean_squared_error(y_test, mlr_pred_test)]\n",
    "#records_splits.loc[47]=[\"60-20-20\",\"MLR\",\"RMSE\", np.sqrt(metrics.mean_squared_error(y_train, mlr_pred_train)), np.sqrt(metrics.mean_squared_error(y_valid, mlr_pred_valid)), np.sqrt(metrics.mean_squared_error(y_test, mlr_pred_test))]\n"
   ]
  },
  {
   "cell_type": "markdown",
   "metadata": {},
   "source": [
    "## SPLIT COMPARISON"
   ]
  },
  {
   "cell_type": "code",
   "execution_count": 46,
   "metadata": {},
   "outputs": [
    {
     "data": {
      "text/html": [
       "<div>\n",
       "<style scoped>\n",
       "    .dataframe tbody tr th:only-of-type {\n",
       "        vertical-align: middle;\n",
       "    }\n",
       "\n",
       "    .dataframe tbody tr th {\n",
       "        vertical-align: top;\n",
       "    }\n",
       "\n",
       "    .dataframe thead th {\n",
       "        text-align: right;\n",
       "    }\n",
       "</style>\n",
       "<table border=\"1\" class=\"dataframe\">\n",
       "  <thead>\n",
       "    <tr style=\"text-align: right;\">\n",
       "      <th></th>\n",
       "      <th>split_proportion</th>\n",
       "      <th>model</th>\n",
       "      <th>metric</th>\n",
       "      <th>train</th>\n",
       "      <th>valid</th>\n",
       "      <th>test</th>\n",
       "    </tr>\n",
       "  </thead>\n",
       "  <tbody>\n",
       "    <tr>\n",
       "      <th>31</th>\n",
       "      <td>70-15-15</td>\n",
       "      <td>RF</td>\n",
       "      <td>RMSE</td>\n",
       "      <td>34139.459360</td>\n",
       "      <td>95709.850043</td>\n",
       "      <td>92364.117263</td>\n",
       "    </tr>\n",
       "    <tr>\n",
       "      <th>11</th>\n",
       "      <td>60-20-20</td>\n",
       "      <td>XGB</td>\n",
       "      <td>RMSE</td>\n",
       "      <td>62031.926203</td>\n",
       "      <td>94000.872879</td>\n",
       "      <td>93037.025838</td>\n",
       "    </tr>\n",
       "    <tr>\n",
       "      <th>27</th>\n",
       "      <td>80-10-10</td>\n",
       "      <td>RF</td>\n",
       "      <td>RMSE</td>\n",
       "      <td>33811.670405</td>\n",
       "      <td>93620.809050</td>\n",
       "      <td>93311.863755</td>\n",
       "    </tr>\n",
       "    <tr>\n",
       "      <th>35</th>\n",
       "      <td>60-20-20</td>\n",
       "      <td>RF</td>\n",
       "      <td>RMSE</td>\n",
       "      <td>34735.813825</td>\n",
       "      <td>95439.764955</td>\n",
       "      <td>93396.914336</td>\n",
       "    </tr>\n",
       "    <tr>\n",
       "      <th>7</th>\n",
       "      <td>70-15-15</td>\n",
       "      <td>XGB</td>\n",
       "      <td>RMSE</td>\n",
       "      <td>64193.613373</td>\n",
       "      <td>94731.568419</td>\n",
       "      <td>93597.564781</td>\n",
       "    </tr>\n",
       "    <tr>\n",
       "      <th>3</th>\n",
       "      <td>80-10-10</td>\n",
       "      <td>XGB</td>\n",
       "      <td>RMSE</td>\n",
       "      <td>65247.515576</td>\n",
       "      <td>92364.278278</td>\n",
       "      <td>93770.658845</td>\n",
       "    </tr>\n",
       "    <tr>\n",
       "      <th>15</th>\n",
       "      <td>80-10-10</td>\n",
       "      <td>LGB</td>\n",
       "      <td>RMSE</td>\n",
       "      <td>26156.369340</td>\n",
       "      <td>98498.981497</td>\n",
       "      <td>97795.124431</td>\n",
       "    </tr>\n",
       "    <tr>\n",
       "      <th>23</th>\n",
       "      <td>60-20-20</td>\n",
       "      <td>LGB</td>\n",
       "      <td>RMSE</td>\n",
       "      <td>26156.369340</td>\n",
       "      <td>98498.981497</td>\n",
       "      <td>97795.124431</td>\n",
       "    </tr>\n",
       "    <tr>\n",
       "      <th>19</th>\n",
       "      <td>70-15-15</td>\n",
       "      <td>LGB</td>\n",
       "      <td>RMSE</td>\n",
       "      <td>28301.959963</td>\n",
       "      <td>98992.189402</td>\n",
       "      <td>98238.652193</td>\n",
       "    </tr>\n",
       "    <tr>\n",
       "      <th>43</th>\n",
       "      <td>70-15-15</td>\n",
       "      <td>MLR</td>\n",
       "      <td>RMSE</td>\n",
       "      <td>142010.062914</td>\n",
       "      <td>145145.565731</td>\n",
       "      <td>139589.998111</td>\n",
       "    </tr>\n",
       "    <tr>\n",
       "      <th>47</th>\n",
       "      <td>60-20-20</td>\n",
       "      <td>MLR</td>\n",
       "      <td>RMSE</td>\n",
       "      <td>142210.679782</td>\n",
       "      <td>143755.466813</td>\n",
       "      <td>140217.914570</td>\n",
       "    </tr>\n",
       "    <tr>\n",
       "      <th>39</th>\n",
       "      <td>80-10-10</td>\n",
       "      <td>MLR</td>\n",
       "      <td>RMSE</td>\n",
       "      <td>141882.021232</td>\n",
       "      <td>141532.736587</td>\n",
       "      <td>144641.215280</td>\n",
       "    </tr>\n",
       "  </tbody>\n",
       "</table>\n",
       "</div>"
      ],
      "text/plain": [
       "   split_proportion model metric          train          valid           test\n",
       "31         70-15-15    RF   RMSE   34139.459360   95709.850043   92364.117263\n",
       "11         60-20-20   XGB   RMSE   62031.926203   94000.872879   93037.025838\n",
       "27         80-10-10    RF   RMSE   33811.670405   93620.809050   93311.863755\n",
       "35         60-20-20    RF   RMSE   34735.813825   95439.764955   93396.914336\n",
       "7          70-15-15   XGB   RMSE   64193.613373   94731.568419   93597.564781\n",
       "3          80-10-10   XGB   RMSE   65247.515576   92364.278278   93770.658845\n",
       "15         80-10-10   LGB   RMSE   26156.369340   98498.981497   97795.124431\n",
       "23         60-20-20   LGB   RMSE   26156.369340   98498.981497   97795.124431\n",
       "19         70-15-15   LGB   RMSE   28301.959963   98992.189402   98238.652193\n",
       "43         70-15-15   MLR   RMSE  142010.062914  145145.565731  139589.998111\n",
       "47         60-20-20   MLR   RMSE  142210.679782  143755.466813  140217.914570\n",
       "39         80-10-10   MLR   RMSE  141882.021232  141532.736587  144641.215280"
      ]
     },
     "execution_count": 46,
     "metadata": {},
     "output_type": "execute_result"
    }
   ],
   "source": [
    "# write csv of records\n",
    "#records_splits.to_csv(r'/Users/macbook/Documents/IS709/df_split_info.csv', index=False)\n",
    "\n",
    "# read records csv\n",
    "records_splits = pd.read_csv(\"/Users/macbook/Documents/IS709/df_split_info.csv\")\n",
    "data.head()\n",
    "\n",
    "\n",
    "records_splits[records_splits[\"metric\"] == \"RMSE\"].sort_values(by=['test'], ascending=True)"
   ]
  },
  {
   "cell_type": "code",
   "execution_count": 47,
   "metadata": {},
   "outputs": [
    {
     "data": {
      "text/html": [
       "<div>\n",
       "<style scoped>\n",
       "    .dataframe tbody tr th:only-of-type {\n",
       "        vertical-align: middle;\n",
       "    }\n",
       "\n",
       "    .dataframe tbody tr th {\n",
       "        vertical-align: top;\n",
       "    }\n",
       "\n",
       "    .dataframe thead th {\n",
       "        text-align: right;\n",
       "    }\n",
       "</style>\n",
       "<table border=\"1\" class=\"dataframe\">\n",
       "  <thead>\n",
       "    <tr style=\"text-align: right;\">\n",
       "      <th></th>\n",
       "      <th>train</th>\n",
       "      <th>valid</th>\n",
       "      <th>test</th>\n",
       "    </tr>\n",
       "  </thead>\n",
       "  <tbody>\n",
       "    <tr>\n",
       "      <th>count</th>\n",
       "      <td>4.000000e+00</td>\n",
       "      <td>4.000000e+00</td>\n",
       "      <td>4.000000e+00</td>\n",
       "    </tr>\n",
       "    <tr>\n",
       "      <th>mean</th>\n",
       "      <td>9.620165e+08</td>\n",
       "      <td>2.209080e+09</td>\n",
       "      <td>2.164011e+09</td>\n",
       "    </tr>\n",
       "    <tr>\n",
       "      <th>std</th>\n",
       "      <td>1.923962e+09</td>\n",
       "      <td>4.418056e+09</td>\n",
       "      <td>4.327918e+09</td>\n",
       "    </tr>\n",
       "    <tr>\n",
       "      <th>min</th>\n",
       "      <td>8.927487e-01</td>\n",
       "      <td>7.561749e-01</td>\n",
       "      <td>7.608796e-01</td>\n",
       "    </tr>\n",
       "    <tr>\n",
       "      <th>25%</th>\n",
       "      <td>3.294670e+04</td>\n",
       "      <td>4.728183e+04</td>\n",
       "      <td>4.710521e+04</td>\n",
       "    </tr>\n",
       "    <tr>\n",
       "      <th>50%</th>\n",
       "      <td>5.298028e+04</td>\n",
       "      <td>7.852153e+04</td>\n",
       "      <td>7.792186e+04</td>\n",
       "    </tr>\n",
       "    <tr>\n",
       "      <th>75%</th>\n",
       "      <td>9.620365e+08</td>\n",
       "      <td>2.209112e+09</td>\n",
       "      <td>2.164042e+09</td>\n",
       "    </tr>\n",
       "    <tr>\n",
       "      <th>max</th>\n",
       "      <td>3.847960e+09</td>\n",
       "      <td>8.836164e+09</td>\n",
       "      <td>8.655888e+09</td>\n",
       "    </tr>\n",
       "  </tbody>\n",
       "</table>\n",
       "</div>"
      ],
      "text/plain": [
       "              train         valid          test\n",
       "count  4.000000e+00  4.000000e+00  4.000000e+00\n",
       "mean   9.620165e+08  2.209080e+09  2.164011e+09\n",
       "std    1.923962e+09  4.418056e+09  4.327918e+09\n",
       "min    8.927487e-01  7.561749e-01  7.608796e-01\n",
       "25%    3.294670e+04  4.728183e+04  4.710521e+04\n",
       "50%    5.298028e+04  7.852153e+04  7.792186e+04\n",
       "75%    9.620365e+08  2.209112e+09  2.164042e+09\n",
       "max    3.847960e+09  8.836164e+09  8.655888e+09"
      ]
     },
     "execution_count": 47,
     "metadata": {},
     "output_type": "execute_result"
    }
   ],
   "source": [
    "records_60 =  records_splits[records_splits[\"split_proportion\"] == \"60-20-20\"]\n",
    "records_60[records_60[\"model\"] == \"XGB\"].describe()\n"
   ]
  },
  {
   "cell_type": "code",
   "execution_count": 48,
   "metadata": {},
   "outputs": [
    {
     "data": {
      "text/html": [
       "<div>\n",
       "<style scoped>\n",
       "    .dataframe tbody tr th:only-of-type {\n",
       "        vertical-align: middle;\n",
       "    }\n",
       "\n",
       "    .dataframe tbody tr th {\n",
       "        vertical-align: top;\n",
       "    }\n",
       "\n",
       "    .dataframe thead th {\n",
       "        text-align: right;\n",
       "    }\n",
       "</style>\n",
       "<table border=\"1\" class=\"dataframe\">\n",
       "  <thead>\n",
       "    <tr style=\"text-align: right;\">\n",
       "      <th></th>\n",
       "      <th>train</th>\n",
       "      <th>valid</th>\n",
       "      <th>test</th>\n",
       "    </tr>\n",
       "  </thead>\n",
       "  <tbody>\n",
       "    <tr>\n",
       "      <th>count</th>\n",
       "      <td>4.000000e+00</td>\n",
       "      <td>4.000000e+00</td>\n",
       "      <td>4.000000e+00</td>\n",
       "    </tr>\n",
       "    <tr>\n",
       "      <th>mean</th>\n",
       "      <td>1.030232e+09</td>\n",
       "      <td>2.243557e+09</td>\n",
       "      <td>2.190165e+09</td>\n",
       "    </tr>\n",
       "    <tr>\n",
       "      <th>std</th>\n",
       "      <td>2.060392e+09</td>\n",
       "      <td>4.487009e+09</td>\n",
       "      <td>4.380226e+09</td>\n",
       "    </tr>\n",
       "    <tr>\n",
       "      <th>min</th>\n",
       "      <td>8.844670e-01</td>\n",
       "      <td>7.577423e-01</td>\n",
       "      <td>7.607273e-01</td>\n",
       "    </tr>\n",
       "    <tr>\n",
       "      <th>25%</th>\n",
       "      <td>3.404224e+04</td>\n",
       "      <td>4.745776e+04</td>\n",
       "      <td>4.689163e+04</td>\n",
       "    </tr>\n",
       "    <tr>\n",
       "      <th>50%</th>\n",
       "      <td>5.479148e+04</td>\n",
       "      <td>7.900417e+04</td>\n",
       "      <td>7.805974e+04</td>\n",
       "    </tr>\n",
       "    <tr>\n",
       "      <th>75%</th>\n",
       "      <td>1.030253e+09</td>\n",
       "      <td>2.243589e+09</td>\n",
       "      <td>2.190196e+09</td>\n",
       "    </tr>\n",
       "    <tr>\n",
       "      <th>max</th>\n",
       "      <td>4.120820e+09</td>\n",
       "      <td>8.974070e+09</td>\n",
       "      <td>8.760504e+09</td>\n",
       "    </tr>\n",
       "  </tbody>\n",
       "</table>\n",
       "</div>"
      ],
      "text/plain": [
       "              train         valid          test\n",
       "count  4.000000e+00  4.000000e+00  4.000000e+00\n",
       "mean   1.030232e+09  2.243557e+09  2.190165e+09\n",
       "std    2.060392e+09  4.487009e+09  4.380226e+09\n",
       "min    8.844670e-01  7.577423e-01  7.607273e-01\n",
       "25%    3.404224e+04  4.745776e+04  4.689163e+04\n",
       "50%    5.479148e+04  7.900417e+04  7.805974e+04\n",
       "75%    1.030253e+09  2.243589e+09  2.190196e+09\n",
       "max    4.120820e+09  8.974070e+09  8.760504e+09"
      ]
     },
     "execution_count": 48,
     "metadata": {},
     "output_type": "execute_result"
    }
   ],
   "source": [
    "records_70 =  records_splits[records_splits[\"split_proportion\"] == \"70-15-15\"]\n",
    "records_70[records_70[\"model\"] == \"XGB\"].describe()"
   ]
  },
  {
   "cell_type": "code",
   "execution_count": 49,
   "metadata": {},
   "outputs": [
    {
     "data": {
      "text/html": [
       "<div>\n",
       "<style scoped>\n",
       "    .dataframe tbody tr th:only-of-type {\n",
       "        vertical-align: middle;\n",
       "    }\n",
       "\n",
       "    .dataframe tbody tr th {\n",
       "        vertical-align: top;\n",
       "    }\n",
       "\n",
       "    .dataframe thead th {\n",
       "        text-align: right;\n",
       "    }\n",
       "</style>\n",
       "<table border=\"1\" class=\"dataframe\">\n",
       "  <thead>\n",
       "    <tr style=\"text-align: right;\">\n",
       "      <th></th>\n",
       "      <th>train</th>\n",
       "      <th>valid</th>\n",
       "      <th>test</th>\n",
       "    </tr>\n",
       "  </thead>\n",
       "  <tbody>\n",
       "    <tr>\n",
       "      <th>count</th>\n",
       "      <td>4.000000e+00</td>\n",
       "      <td>4.000000e+00</td>\n",
       "      <td>4.000000e+00</td>\n",
       "    </tr>\n",
       "    <tr>\n",
       "      <th>mean</th>\n",
       "      <td>1.064337e+09</td>\n",
       "      <td>2.132828e+09</td>\n",
       "      <td>2.198273e+09</td>\n",
       "    </tr>\n",
       "    <tr>\n",
       "      <th>std</th>\n",
       "      <td>2.128601e+09</td>\n",
       "      <td>4.265554e+09</td>\n",
       "      <td>4.396442e+09</td>\n",
       "    </tr>\n",
       "    <tr>\n",
       "      <th>min</th>\n",
       "      <td>8.807901e-01</td>\n",
       "      <td>7.653202e-01</td>\n",
       "      <td>7.691528e-01</td>\n",
       "    </tr>\n",
       "    <tr>\n",
       "      <th>25%</th>\n",
       "      <td>3.467083e+04</td>\n",
       "      <td>4.620097e+04</td>\n",
       "      <td>4.699631e+04</td>\n",
       "    </tr>\n",
       "    <tr>\n",
       "      <th>50%</th>\n",
       "      <td>5.573750e+04</td>\n",
       "      <td>7.698266e+04</td>\n",
       "      <td>7.821607e+04</td>\n",
       "    </tr>\n",
       "    <tr>\n",
       "      <th>75%</th>\n",
       "      <td>1.064359e+09</td>\n",
       "      <td>2.132859e+09</td>\n",
       "      <td>2.198304e+09</td>\n",
       "    </tr>\n",
       "    <tr>\n",
       "      <th>max</th>\n",
       "      <td>4.257238e+09</td>\n",
       "      <td>8.531160e+09</td>\n",
       "      <td>8.792936e+09</td>\n",
       "    </tr>\n",
       "  </tbody>\n",
       "</table>\n",
       "</div>"
      ],
      "text/plain": [
       "              train         valid          test\n",
       "count  4.000000e+00  4.000000e+00  4.000000e+00\n",
       "mean   1.064337e+09  2.132828e+09  2.198273e+09\n",
       "std    2.128601e+09  4.265554e+09  4.396442e+09\n",
       "min    8.807901e-01  7.653202e-01  7.691528e-01\n",
       "25%    3.467083e+04  4.620097e+04  4.699631e+04\n",
       "50%    5.573750e+04  7.698266e+04  7.821607e+04\n",
       "75%    1.064359e+09  2.132859e+09  2.198304e+09\n",
       "max    4.257238e+09  8.531160e+09  8.792936e+09"
      ]
     },
     "execution_count": 49,
     "metadata": {},
     "output_type": "execute_result"
    }
   ],
   "source": [
    "records_80 =  records_splits[records_splits[\"split_proportion\"] == \"80-10-10\"]\n",
    "records_80[records_80[\"model\"] == \"XGB\"].describe()"
   ]
  },
  {
   "cell_type": "markdown",
   "metadata": {},
   "source": [
    "## CROSS-VALIDATION\n",
    "\n",
    "After hyperparemeter tuning models with the the best parameters are cross validated with 10 folds"
   ]
  },
  {
   "cell_type": "code",
   "execution_count": 50,
   "metadata": {},
   "outputs": [],
   "source": [
    "# Cross-validation with k-folds\n",
    "n_folds = 10\n",
    "\n",
    "def rmsle_cv(model):\n",
    "    kf = KFold(n_folds, shuffle=True, random_state=42).get_n_splits(x_train.values)\n",
    "    rmse= np.sqrt(-cross_val_score(model, x_train.values, y_train, scoring=\"neg_mean_squared_error\", cv = kf))\n",
    "    return(rmse)"
   ]
  },
  {
   "cell_type": "code",
   "execution_count": 51,
   "metadata": {},
   "outputs": [
    {
     "name": "stdout",
     "output_type": "stream",
     "text": [
      "MLR score: 141878.0461 (2738.0297)\n",
      "\n",
      "Xgboost score: 94368.0199 (1584.1675)\n",
      "\n",
      "RF score: 90596.4415 (1820.7644)\n",
      "\n"
     ]
    }
   ],
   "source": [
    "score = rmsle_cv(model_mlr)\n",
    "print(\"MLR score: {:.4f} ({:.4f})\\n\" .format(score.mean(), score.std()))\n",
    "score = rmsle_cv(model_xgb)\n",
    "print(\"Xgboost score: {:.4f} ({:.4f})\\n\".format(score.mean(), score.std()))\n",
    "score = rmsle_cv(model_rf)\n",
    "print(\"RF score: {:.4f} ({:.4f})\\n\" .format(score.mean(), score.std()))\n"
   ]
  },
  {
   "cell_type": "code",
   "execution_count": null,
   "metadata": {},
   "outputs": [],
   "source": []
  }
 ],
 "metadata": {
  "kernelspec": {
   "display_name": "Python 3",
   "language": "python",
   "name": "python3"
  },
  "language_info": {
   "codemirror_mode": {
    "name": "ipython",
    "version": 3
   },
   "file_extension": ".py",
   "mimetype": "text/x-python",
   "name": "python",
   "nbconvert_exporter": "python",
   "pygments_lexer": "ipython3",
   "version": "3.8.3"
  }
 },
 "nbformat": 4,
 "nbformat_minor": 4
}
